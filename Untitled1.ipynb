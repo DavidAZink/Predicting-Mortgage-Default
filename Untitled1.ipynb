{
 "cells": [
  {
   "cell_type": "markdown",
   "metadata": {},
   "source": [
    "## Logistic Regression"
   ]
  },
  {
   "cell_type": "markdown",
   "metadata": {},
   "source": [
    "I first estimate a multinomial logistic regression model to classify the state of a mortgage in period $t$ using information available at time $t-1$. Logistic regression can be thought of as a neural network with no hidden layers, and serves as a useful benchline with which to compare the performance of more sophisticated neural networks.  \n",
    "\n",
    "In any month,  the state of a mortgage must be current, delinquent, in foreclosure, or paid-off.  I model the probability that mortgage $i$ is in state $k$ as $$Pr\\left(y_{it}=k|X_{i,t-1}\\right) = \\frac{e^{X_{i, t-1}\\beta_k}}{\\sum_{K=0}^{K-1}e^{X_{i, t-1}\\beta_K}}$$ for $k=\\{current, delinquent, foreclosure, paid-off\\}$. The predicted state for each mortgage is then $\\hat{y}_{it}=argmax_{k}$ $\\hat{p}_{ik}$ where $\\hat{p}_{ik}$ is the probability that mortgage $i$ is in state $k$. The vector $\\hat{\\beta}_k$ must be estimated for each state so that predicted probabilities can be obtained. I first import my data and create a validation and training set before estimating each of the $\\hat{\\beta}_k$s with the sklearn package."
   ]
  },
  {
   "cell_type": "code",
   "execution_count": 15,
   "metadata": {},
   "outputs": [],
   "source": [
    "import os\n",
    "os.getcwd()\n",
    "os.chdir('C:\\\\Users\\\\dzink\\\\Documents\\\\fannie')\n",
    "import pandas as pd\n",
    "import numpy as np\n",
    "import matplotlib.pyplot as plt\n",
    "from sklearn import metrics\n",
    "from sklearn.linear_model import LogisticRegression\n",
    "import math\n",
    "#Import training data. The data was cleaned in R and saved as a CSV while working on another project. \n",
    "data=pd.read_csv('training_data.csv')\n",
    "\n",
    "features=['l_delinquent', 'loan_age', 'months_left', 'estimated_ltv', 'fico', 'units_1', 'units_2', 'units_3', 'units_4', \n",
    "\t\t'occupancy_I', 'occupancy_P', 'occupancy_S' , 'o_cltv', 'o_dti', 'o_upb' ,'o_ltv', \n",
    "\t\t'property_type_CP', 'property_type_MH', 'property_type_CO', 'property_type_PU', 'property_type_SF', \n",
    "\t\t'fist_home_9', 'fist_home_Y', 'fist_home_N', 'o_term', 'borrowers', 'nontradable_xshare',\n",
    "\t\t 'other_xshare', 'tradable_xshare', 'tot_emp_xshare', 'white_xshare', 'LaborForce_xshare', 'Employed_xshare', \n",
    "\t\t'Unemployed_xshare', 'spread', 'spread_ltv', 'spread_fico', 'spread_unemp']\n",
    "\n",
    "#shuffle dataframe so that the validation and training datasets are random\n",
    "data=data.sample(frac=1, random_state=1)\n",
    "y=pd.get_dummies(pd.DataFrame(data['delinquent']).astype('category'))\n",
    "y.columns=['current', 'delinquent', 'foreclosed', 'prepaid']\n",
    "\n",
    "# Convert the data to mean zero and unit standard deviation\n",
    "from sklearn.preprocessing import StandardScaler\n",
    "scaler=StandardScaler()\n",
    "data_scaler=scaler.fit(data[features])\n",
    "data_scaled=pd.DataFrame(data_scaler.transform(data[features]), columns=data[features].columns)\n",
    "data_scaled['sequence']=data['sequence']"
   ]
  },
  {
   "cell_type": "markdown",
   "metadata": {},
   "source": [
    "The features are defined aboce. Categorical features are all one-hot encoded and include month, units, occupancy, property type, borrowers, and l_delinquency (the state of the mortgage in period  𝑡−1 ). The remaining features are continuous. These may vary at either the loan level, geographical level, or national level. Among the loan level features, these may be either time varying or fixed within each individual over the course of the sampling period. For example, 'o_ltv' is the loan-to-value ratio at origination and varies only between individuals. Conversely, 'l_estimated_ltv' is the estimated loan-to-value ratio of the loan as of period  𝑡−1 , which is time-varying. Importantly, the presence of time varying features means that only one-month ahead predictions can be made. Summaries of the features matrix and output vector are printed below."
   ]
  },
  {
   "cell_type": "code",
   "execution_count": 190,
   "metadata": {},
   "outputs": [
    {
     "data": {
      "text/html": [
       "<div>\n",
       "<style scoped>\n",
       "    .dataframe tbody tr th:only-of-type {\n",
       "        vertical-align: middle;\n",
       "    }\n",
       "\n",
       "    .dataframe tbody tr th {\n",
       "        vertical-align: top;\n",
       "    }\n",
       "\n",
       "    .dataframe thead th {\n",
       "        text-align: right;\n",
       "    }\n",
       "</style>\n",
       "<table border=\"1\" class=\"dataframe\">\n",
       "  <thead>\n",
       "    <tr style=\"text-align: right;\">\n",
       "      <th></th>\n",
       "      <th>l_delinquent</th>\n",
       "      <th>loan_age</th>\n",
       "      <th>months_left</th>\n",
       "      <th>estimated_ltv</th>\n",
       "      <th>fico</th>\n",
       "      <th>units_1</th>\n",
       "      <th>units_2</th>\n",
       "      <th>units_3</th>\n",
       "      <th>units_4</th>\n",
       "      <th>occupancy_I</th>\n",
       "      <th>...</th>\n",
       "      <th>tradable_xshare</th>\n",
       "      <th>tot_emp_xshare</th>\n",
       "      <th>white_xshare</th>\n",
       "      <th>LaborForce_xshare</th>\n",
       "      <th>Employed_xshare</th>\n",
       "      <th>Unemployed_xshare</th>\n",
       "      <th>spread</th>\n",
       "      <th>spread_ltv</th>\n",
       "      <th>spread_fico</th>\n",
       "      <th>spread_unemp</th>\n",
       "    </tr>\n",
       "  </thead>\n",
       "  <tbody>\n",
       "    <tr>\n",
       "      <td>count</td>\n",
       "      <td>5.345713e+06</td>\n",
       "      <td>5.345713e+06</td>\n",
       "      <td>5.345713e+06</td>\n",
       "      <td>5.345713e+06</td>\n",
       "      <td>5.345713e+06</td>\n",
       "      <td>5.345713e+06</td>\n",
       "      <td>5.345713e+06</td>\n",
       "      <td>5.345713e+06</td>\n",
       "      <td>5.345713e+06</td>\n",
       "      <td>5.345713e+06</td>\n",
       "      <td>...</td>\n",
       "      <td>5.345713e+06</td>\n",
       "      <td>5.345713e+06</td>\n",
       "      <td>5.345713e+06</td>\n",
       "      <td>5.345713e+06</td>\n",
       "      <td>5.345713e+06</td>\n",
       "      <td>5.345713e+06</td>\n",
       "      <td>5.345713e+06</td>\n",
       "      <td>5.345713e+06</td>\n",
       "      <td>5.345713e+06</td>\n",
       "      <td>5.345713e+06</td>\n",
       "    </tr>\n",
       "    <tr>\n",
       "      <td>mean</td>\n",
       "      <td>-1.385709e-14</td>\n",
       "      <td>6.071913e-16</td>\n",
       "      <td>-3.119414e-16</td>\n",
       "      <td>3.756472e-15</td>\n",
       "      <td>8.828725e-16</td>\n",
       "      <td>-1.168960e-14</td>\n",
       "      <td>-1.718810e-14</td>\n",
       "      <td>-1.250499e-14</td>\n",
       "      <td>1.467029e-14</td>\n",
       "      <td>-5.152808e-15</td>\n",
       "      <td>...</td>\n",
       "      <td>-1.532299e-15</td>\n",
       "      <td>-8.526550e-16</td>\n",
       "      <td>-1.778782e-15</td>\n",
       "      <td>7.285070e-15</td>\n",
       "      <td>-5.692868e-15</td>\n",
       "      <td>-9.760309e-16</td>\n",
       "      <td>-2.722898e-16</td>\n",
       "      <td>-3.372668e-16</td>\n",
       "      <td>1.391122e-16</td>\n",
       "      <td>1.731336e-16</td>\n",
       "    </tr>\n",
       "    <tr>\n",
       "      <td>std</td>\n",
       "      <td>1.000000e+00</td>\n",
       "      <td>1.000000e+00</td>\n",
       "      <td>1.000000e+00</td>\n",
       "      <td>1.000000e+00</td>\n",
       "      <td>1.000000e+00</td>\n",
       "      <td>1.000000e+00</td>\n",
       "      <td>1.000000e+00</td>\n",
       "      <td>1.000000e+00</td>\n",
       "      <td>1.000000e+00</td>\n",
       "      <td>1.000000e+00</td>\n",
       "      <td>...</td>\n",
       "      <td>1.000000e+00</td>\n",
       "      <td>1.000000e+00</td>\n",
       "      <td>1.000000e+00</td>\n",
       "      <td>1.000000e+00</td>\n",
       "      <td>1.000000e+00</td>\n",
       "      <td>1.000000e+00</td>\n",
       "      <td>1.000000e+00</td>\n",
       "      <td>1.000000e+00</td>\n",
       "      <td>1.000000e+00</td>\n",
       "      <td>1.000000e+00</td>\n",
       "    </tr>\n",
       "    <tr>\n",
       "      <td>min</td>\n",
       "      <td>-1.826500e-01</td>\n",
       "      <td>-1.324601e+00</td>\n",
       "      <td>-7.483346e+00</td>\n",
       "      <td>-3.512710e+00</td>\n",
       "      <td>-5.653302e+00</td>\n",
       "      <td>-6.611839e+00</td>\n",
       "      <td>-1.354083e-01</td>\n",
       "      <td>-4.272627e-02</td>\n",
       "      <td>-5.041947e-02</td>\n",
       "      <td>-2.668625e-01</td>\n",
       "      <td>...</td>\n",
       "      <td>-1.291623e+00</td>\n",
       "      <td>-2.372234e+00</td>\n",
       "      <td>-5.269511e+00</td>\n",
       "      <td>-4.952113e+00</td>\n",
       "      <td>-4.529680e+00</td>\n",
       "      <td>-1.787457e+00</td>\n",
       "      <td>-2.460347e+00</td>\n",
       "      <td>-3.160036e+00</td>\n",
       "      <td>-2.565471e+00</td>\n",
       "      <td>-3.078625e+00</td>\n",
       "    </tr>\n",
       "    <tr>\n",
       "      <td>25%</td>\n",
       "      <td>-1.826500e-01</td>\n",
       "      <td>-8.199049e-01</td>\n",
       "      <td>-6.137461e-01</td>\n",
       "      <td>-5.395782e-01</td>\n",
       "      <td>-7.170121e-01</td>\n",
       "      <td>1.512439e-01</td>\n",
       "      <td>-1.354083e-01</td>\n",
       "      <td>-4.272627e-02</td>\n",
       "      <td>-5.041947e-02</td>\n",
       "      <td>-2.668625e-01</td>\n",
       "      <td>...</td>\n",
       "      <td>-7.443683e-01</td>\n",
       "      <td>-7.345819e-01</td>\n",
       "      <td>-4.491718e-01</td>\n",
       "      <td>-5.665151e-01</td>\n",
       "      <td>-5.785580e-01</td>\n",
       "      <td>-7.079228e-01</td>\n",
       "      <td>-7.889598e-01</td>\n",
       "      <td>-7.387046e-01</td>\n",
       "      <td>-7.809508e-01</td>\n",
       "      <td>-7.193905e-01</td>\n",
       "    </tr>\n",
       "    <tr>\n",
       "      <td>50%</td>\n",
       "      <td>-1.826500e-01</td>\n",
       "      <td>-1.890341e-01</td>\n",
       "      <td>1.602933e-01</td>\n",
       "      <td>8.322330e-02</td>\n",
       "      <td>1.665263e-01</td>\n",
       "      <td>1.512439e-01</td>\n",
       "      <td>-1.354083e-01</td>\n",
       "      <td>-4.272627e-02</td>\n",
       "      <td>-5.041947e-02</td>\n",
       "      <td>-2.668625e-01</td>\n",
       "      <td>...</td>\n",
       "      <td>-2.445164e-01</td>\n",
       "      <td>-1.276063e-01</td>\n",
       "      <td>1.814924e-01</td>\n",
       "      <td>1.891580e-02</td>\n",
       "      <td>1.630456e-02</td>\n",
       "      <td>-2.658311e-01</td>\n",
       "      <td>-2.512754e-01</td>\n",
       "      <td>-2.723958e-01</td>\n",
       "      <td>-2.471197e-01</td>\n",
       "      <td>-3.791602e-01</td>\n",
       "    </tr>\n",
       "    <tr>\n",
       "      <td>75%</td>\n",
       "      <td>-1.826500e-01</td>\n",
       "      <td>6.184805e-01</td>\n",
       "      <td>7.650116e-01</td>\n",
       "      <td>6.169211e-01</td>\n",
       "      <td>8.195763e-01</td>\n",
       "      <td>1.512439e-01</td>\n",
       "      <td>-1.354083e-01</td>\n",
       "      <td>-4.272627e-02</td>\n",
       "      <td>-5.041947e-02</td>\n",
       "      <td>-2.668625e-01</td>\n",
       "      <td>...</td>\n",
       "      <td>5.526084e-01</td>\n",
       "      <td>6.097267e-01</td>\n",
       "      <td>7.374441e-01</td>\n",
       "      <td>6.463802e-01</td>\n",
       "      <td>6.756381e-01</td>\n",
       "      <td>4.633725e-01</td>\n",
       "      <td>7.175710e-01</td>\n",
       "      <td>6.313151e-01</td>\n",
       "      <td>7.166373e-01</td>\n",
       "      <td>6.220300e-01</td>\n",
       "    </tr>\n",
       "    <tr>\n",
       "      <td>max</td>\n",
       "      <td>5.474952e+00</td>\n",
       "      <td>2.864380e+00</td>\n",
       "      <td>4.127245e+00</td>\n",
       "      <td>8.829044e+00</td>\n",
       "      <td>2.106469e+00</td>\n",
       "      <td>1.512439e-01</td>\n",
       "      <td>7.385073e+00</td>\n",
       "      <td>2.340480e+01</td>\n",
       "      <td>1.983361e+01</td>\n",
       "      <td>3.747248e+00</td>\n",
       "      <td>...</td>\n",
       "      <td>8.048821e+00</td>\n",
       "      <td>8.320831e+00</td>\n",
       "      <td>1.507352e+00</td>\n",
       "      <td>5.318197e+00</td>\n",
       "      <td>5.212446e+00</td>\n",
       "      <td>4.484992e+00</td>\n",
       "      <td>4.131360e+00</td>\n",
       "      <td>8.318794e+00</td>\n",
       "      <td>4.243316e+00</td>\n",
       "      <td>7.497968e+00</td>\n",
       "    </tr>\n",
       "  </tbody>\n",
       "</table>\n",
       "<p>8 rows × 38 columns</p>\n",
       "</div>"
      ],
      "text/plain": [
       "       l_delinquent      loan_age   months_left  estimated_ltv          fico  \\\n",
       "count  5.345713e+06  5.345713e+06  5.345713e+06   5.345713e+06  5.345713e+06   \n",
       "mean  -1.385709e-14  6.071913e-16 -3.119414e-16   3.756472e-15  8.828725e-16   \n",
       "std    1.000000e+00  1.000000e+00  1.000000e+00   1.000000e+00  1.000000e+00   \n",
       "min   -1.826500e-01 -1.324601e+00 -7.483346e+00  -3.512710e+00 -5.653302e+00   \n",
       "25%   -1.826500e-01 -8.199049e-01 -6.137461e-01  -5.395782e-01 -7.170121e-01   \n",
       "50%   -1.826500e-01 -1.890341e-01  1.602933e-01   8.322330e-02  1.665263e-01   \n",
       "75%   -1.826500e-01  6.184805e-01  7.650116e-01   6.169211e-01  8.195763e-01   \n",
       "max    5.474952e+00  2.864380e+00  4.127245e+00   8.829044e+00  2.106469e+00   \n",
       "\n",
       "            units_1       units_2       units_3       units_4   occupancy_I  \\\n",
       "count  5.345713e+06  5.345713e+06  5.345713e+06  5.345713e+06  5.345713e+06   \n",
       "mean  -1.168960e-14 -1.718810e-14 -1.250499e-14  1.467029e-14 -5.152808e-15   \n",
       "std    1.000000e+00  1.000000e+00  1.000000e+00  1.000000e+00  1.000000e+00   \n",
       "min   -6.611839e+00 -1.354083e-01 -4.272627e-02 -5.041947e-02 -2.668625e-01   \n",
       "25%    1.512439e-01 -1.354083e-01 -4.272627e-02 -5.041947e-02 -2.668625e-01   \n",
       "50%    1.512439e-01 -1.354083e-01 -4.272627e-02 -5.041947e-02 -2.668625e-01   \n",
       "75%    1.512439e-01 -1.354083e-01 -4.272627e-02 -5.041947e-02 -2.668625e-01   \n",
       "max    1.512439e-01  7.385073e+00  2.340480e+01  1.983361e+01  3.747248e+00   \n",
       "\n",
       "       ...  tradable_xshare  tot_emp_xshare  white_xshare  LaborForce_xshare  \\\n",
       "count  ...     5.345713e+06    5.345713e+06  5.345713e+06       5.345713e+06   \n",
       "mean   ...    -1.532299e-15   -8.526550e-16 -1.778782e-15       7.285070e-15   \n",
       "std    ...     1.000000e+00    1.000000e+00  1.000000e+00       1.000000e+00   \n",
       "min    ...    -1.291623e+00   -2.372234e+00 -5.269511e+00      -4.952113e+00   \n",
       "25%    ...    -7.443683e-01   -7.345819e-01 -4.491718e-01      -5.665151e-01   \n",
       "50%    ...    -2.445164e-01   -1.276063e-01  1.814924e-01       1.891580e-02   \n",
       "75%    ...     5.526084e-01    6.097267e-01  7.374441e-01       6.463802e-01   \n",
       "max    ...     8.048821e+00    8.320831e+00  1.507352e+00       5.318197e+00   \n",
       "\n",
       "       Employed_xshare  Unemployed_xshare        spread    spread_ltv  \\\n",
       "count     5.345713e+06       5.345713e+06  5.345713e+06  5.345713e+06   \n",
       "mean     -5.692868e-15      -9.760309e-16 -2.722898e-16 -3.372668e-16   \n",
       "std       1.000000e+00       1.000000e+00  1.000000e+00  1.000000e+00   \n",
       "min      -4.529680e+00      -1.787457e+00 -2.460347e+00 -3.160036e+00   \n",
       "25%      -5.785580e-01      -7.079228e-01 -7.889598e-01 -7.387046e-01   \n",
       "50%       1.630456e-02      -2.658311e-01 -2.512754e-01 -2.723958e-01   \n",
       "75%       6.756381e-01       4.633725e-01  7.175710e-01  6.313151e-01   \n",
       "max       5.212446e+00       4.484992e+00  4.131360e+00  8.318794e+00   \n",
       "\n",
       "        spread_fico  spread_unemp  \n",
       "count  5.345713e+06  5.345713e+06  \n",
       "mean   1.391122e-16  1.731336e-16  \n",
       "std    1.000000e+00  1.000000e+00  \n",
       "min   -2.565471e+00 -3.078625e+00  \n",
       "25%   -7.809508e-01 -7.193905e-01  \n",
       "50%   -2.471197e-01 -3.791602e-01  \n",
       "75%    7.166373e-01  6.220300e-01  \n",
       "max    4.243316e+00  7.497968e+00  \n",
       "\n",
       "[8 rows x 38 columns]"
      ]
     },
     "execution_count": 190,
     "metadata": {},
     "output_type": "execute_result"
    }
   ],
   "source": [
    "data_scaled[features].describe()"
   ]
  },
  {
   "cell_type": "code",
   "execution_count": 191,
   "metadata": {},
   "outputs": [
    {
     "data": {
      "text/html": [
       "<div>\n",
       "<style scoped>\n",
       "    .dataframe tbody tr th:only-of-type {\n",
       "        vertical-align: middle;\n",
       "    }\n",
       "\n",
       "    .dataframe tbody tr th {\n",
       "        vertical-align: top;\n",
       "    }\n",
       "\n",
       "    .dataframe thead th {\n",
       "        text-align: right;\n",
       "    }\n",
       "</style>\n",
       "<table border=\"1\" class=\"dataframe\">\n",
       "  <thead>\n",
       "    <tr style=\"text-align: right;\">\n",
       "      <th></th>\n",
       "      <th>current</th>\n",
       "      <th>delinquent</th>\n",
       "      <th>foreclosed</th>\n",
       "      <th>prepaid</th>\n",
       "    </tr>\n",
       "  </thead>\n",
       "  <tbody>\n",
       "    <tr>\n",
       "      <td>count</td>\n",
       "      <td>5.345713e+06</td>\n",
       "      <td>5.345713e+06</td>\n",
       "      <td>5.345713e+06</td>\n",
       "      <td>5.345713e+06</td>\n",
       "    </tr>\n",
       "    <tr>\n",
       "      <td>mean</td>\n",
       "      <td>9.552585e-01</td>\n",
       "      <td>3.249482e-02</td>\n",
       "      <td>6.891504e-04</td>\n",
       "      <td>1.155749e-02</td>\n",
       "    </tr>\n",
       "    <tr>\n",
       "      <td>std</td>\n",
       "      <td>2.067357e-01</td>\n",
       "      <td>1.773102e-01</td>\n",
       "      <td>2.624263e-02</td>\n",
       "      <td>1.068827e-01</td>\n",
       "    </tr>\n",
       "    <tr>\n",
       "      <td>min</td>\n",
       "      <td>0.000000e+00</td>\n",
       "      <td>0.000000e+00</td>\n",
       "      <td>0.000000e+00</td>\n",
       "      <td>0.000000e+00</td>\n",
       "    </tr>\n",
       "    <tr>\n",
       "      <td>25%</td>\n",
       "      <td>1.000000e+00</td>\n",
       "      <td>0.000000e+00</td>\n",
       "      <td>0.000000e+00</td>\n",
       "      <td>0.000000e+00</td>\n",
       "    </tr>\n",
       "    <tr>\n",
       "      <td>50%</td>\n",
       "      <td>1.000000e+00</td>\n",
       "      <td>0.000000e+00</td>\n",
       "      <td>0.000000e+00</td>\n",
       "      <td>0.000000e+00</td>\n",
       "    </tr>\n",
       "    <tr>\n",
       "      <td>75%</td>\n",
       "      <td>1.000000e+00</td>\n",
       "      <td>0.000000e+00</td>\n",
       "      <td>0.000000e+00</td>\n",
       "      <td>0.000000e+00</td>\n",
       "    </tr>\n",
       "    <tr>\n",
       "      <td>max</td>\n",
       "      <td>1.000000e+00</td>\n",
       "      <td>1.000000e+00</td>\n",
       "      <td>1.000000e+00</td>\n",
       "      <td>1.000000e+00</td>\n",
       "    </tr>\n",
       "  </tbody>\n",
       "</table>\n",
       "</div>"
      ],
      "text/plain": [
       "            current    delinquent    foreclosed       prepaid\n",
       "count  5.345713e+06  5.345713e+06  5.345713e+06  5.345713e+06\n",
       "mean   9.552585e-01  3.249482e-02  6.891504e-04  1.155749e-02\n",
       "std    2.067357e-01  1.773102e-01  2.624263e-02  1.068827e-01\n",
       "min    0.000000e+00  0.000000e+00  0.000000e+00  0.000000e+00\n",
       "25%    1.000000e+00  0.000000e+00  0.000000e+00  0.000000e+00\n",
       "50%    1.000000e+00  0.000000e+00  0.000000e+00  0.000000e+00\n",
       "75%    1.000000e+00  0.000000e+00  0.000000e+00  0.000000e+00\n",
       "max    1.000000e+00  1.000000e+00  1.000000e+00  1.000000e+00"
      ]
     },
     "execution_count": 191,
     "metadata": {},
     "output_type": "execute_result"
    }
   ],
   "source": [
    "y.describe()"
   ]
  },
  {
   "cell_type": "markdown",
   "metadata": {},
   "source": [
    "I now construct and estimate the multinomial logistic regression model. I use class weights to account for class imbalanceness. Specifically, the weight for class  𝑘  is equal to the frequency of the 'current' class to class  𝑘 . This adjusts the loss function for class-imbalance by multiplying observations from each class by their respective weight."
   ]
  },
  {
   "cell_type": "code",
   "execution_count": 11,
   "metadata": {},
   "outputs": [
    {
     "name": "stdout",
     "output_type": "stream",
     "text": [
      "Train on 4276570 samples, validate on 1069143 samples\n",
      "Epoch 1/3\n",
      "4276570/4276570 [==============================] - 160s 37us/step - loss: 1.7176 - categorical_accuracy: 0.9282 - val_loss: 1.6183 - val_categorical_accuracy: 0.9417\n",
      "Epoch 2/3\n",
      "4276570/4276570 [==============================] - 156s 36us/step - loss: 1.6141 - categorical_accuracy: 0.9408 - val_loss: 1.6003 - val_categorical_accuracy: 0.9408\n",
      "Epoch 3/3\n",
      "4276570/4276570 [==============================] - 167s 39us/step - loss: 1.6122 - categorical_accuracy: 0.9414 - val_loss: 1.5500 - val_categorical_accuracy: 0.9410\n"
     ]
    }
   ],
   "source": [
    "# I will train a logistic regression model using keras with a tensorflow backend \n",
    "import tensorflow as tf\n",
    "import keras as k\n",
    "from keras.layers import Dense, Dropout\n",
    "from keras.models import Sequential\n",
    "#define class weights to account for imbalanced data\n",
    "class_weight = {0: 1,\n",
    "                1: 29.5434, \n",
    "                2: 1393.82, \n",
    "                3: 83.006}\n",
    "\n",
    "model0=Sequential()\n",
    "model0.add(Dense(4, input_dim=38, activation='softmax', use_bias=True))\n",
    "# I will use categorical crossentropy as a loss function. I run 4 epochs and set aside 20% of the training data for validation\n",
    "\n",
    "model0.compile(loss='categorical_crossentropy', optimizer='adam', metrics=['categorical_accuracy'])\n",
    "history=model0.fit(data_scaled[features], y, batch_size=30, epochs=3, validation_split=0.2, \n",
    "                   class_weight=class_weight, verbose=1)\n",
    "\n"
   ]
  },
  {
   "cell_type": "markdown",
   "metadata": {},
   "source": [
    "The loss has stopped improving after two epochs, suggesting that the loss function has converged.   The validation accuracy of 94% percent looks impressive, however keep in mind that the data is highly imbalanced. 95% of the mortgages are current, and so an algorithim that predicts current for every mortgage would have a high accuracy but be useless. To get a more detailed picture of the predictive power of the logistic regression model, I import new test data and compute the recall and accuracy for each class. \n",
    "\n"
   ]
  },
  {
   "cell_type": "code",
   "execution_count": 12,
   "metadata": {},
   "outputs": [
    {
     "name": "stdout",
     "output_type": "stream",
     "text": [
      "              precision    recall  f1-score   support\n",
      "\n",
      "     current       0.99      0.95      0.97   1291111\n",
      "  delinquent       0.33      0.60      0.42     41172\n",
      "  foreclosed       0.06      0.70      0.10       917\n",
      "     prepaid       0.63      0.99      0.77     15361\n",
      "\n",
      "    accuracy                           0.94   1348561\n",
      "   macro avg       0.50      0.81      0.57   1348561\n",
      "weighted avg       0.97      0.94      0.95   1348561\n",
      "\n"
     ]
    }
   ],
   "source": [
    "#Get classification report for logistic regression and predict on new data...\n",
    "from sklearn.metrics import classification_report\n",
    "test_data=pd.read_csv('test_data.csv')\n",
    "#normalize the test data using the mean and standard deviations calculated for the training data. \n",
    "test_scaled=pd.DataFrame(data_scaler.transform(test_data[features]), columns=test_data[features].columns)\n",
    "test_scaled['sequence']=test_data['sequence']\n",
    "#get classification report. Each example is classified as belonging to the class for which its predicted prob is highest\n",
    "print(classification_report(test_data['delinquent'], model0.predict_classes(test_scaled[features]), \n",
    "                            target_names=['current', 'delinquent', 'foreclosed', 'prepaid']))\n"
   ]
  },
  {
   "cell_type": "markdown",
   "metadata": {},
   "source": [
    "The output above displays the preciesion, recall, and f1-score for each class. Intuitively, precision calculates the share of mortgages classified as a given class that actually belong to that class. The precision of 0.99 for current means that 99% of the loans classified as current are actually current. Recall is equivalent to the true positive rate. This is equal to the share of mortgages in a given class that are correctly identified as belonging to that class. For the current class, 0.95 means that 95% of current loans were correctly identified as current. The f1-score is the harmonic mean of precision and recall. This is useful in cases of class-imbalanceness because it identifies cases in which accuracy may be very high but precision or recall are low. \n",
    "\n",
    "There is a tradeoff between precision and recall. The precision of a model can be improved by increasing the probability threshold at which a loan is classifed as belonging to a given class. However, this will result in a lower recall. For example, if I only classify loans as current for which the predicted probability of belonging to current is greater than 99%, then almost all of the loans I classify as current will likely be correctly labeled (precision will be high). However, many of the loans with predicted probabilities below 99% are also likely to be current, but will not be classified as such. This will lowerer recall for the current class. This will also lower the precision and increase the recall for the other classes. Determining the importance of recall versus precision is subjective and depends on the context in which the model is being used.  \n",
    "\n",
    "The performance of the model varies widely between classes. This isn't surprising given how imbalanced the classes are. The precision of 6% for the foreclosed class may seem alarmingly low. However, keep in mind that a loan randomly classified as foreclosed has only a 0.068% chance of being correct. Thus, the model still offers substantial predictive power when compared to random guessing.  "
   ]
  },
  {
   "cell_type": "markdown",
   "metadata": {},
   "source": [
    "### Feature Importance"
   ]
  },
  {
   "cell_type": "markdown",
   "metadata": {},
   "source": [
    "Although the goal of this exerxise is strictly prediction, it is still interesting to determine the most predictive features. The code below plots the ten most predictive features for each class (current, delinquent, foreclosed, prepaid). Importance is measured by the absolute value of the coefficient.\n",
    "\n",
    "Many of the features do not have the expected sign. This may be due to omitted variable bias. If an omitted variable is correlated with both a feature and the outcome, its estimate will be biased. This does not compromise the predictive power of the model, however it prevents the model from being used for causal inference.\n"
   ]
  },
  {
   "cell_type": "code",
   "execution_count": 9,
   "metadata": {},
   "outputs": [
    {
     "data": {
      "image/png": "[encoded data removed]",
      "text/plain": [
       "<Figure size 432x288 with 4 Axes>"
      ]
     },
     "metadata": {
      "needs_background": "light"
     },
     "output_type": "display_data"
    },
    {
     "data": {
      "text/plain": [
       "<Figure size 1500x1500 with 0 Axes>"
      ]
     },
     "metadata": {},
     "output_type": "display_data"
    }
   ],
   "source": [
    "weights=pd.DataFrame(model0.get_weights()[0], index=features, columns=['current', 'delinquent', 'foreclosed', 'prepaid'])\n",
    "#current plot\n",
    "current_weights=weights.loc[weights['current'].abs().sort_values(ascending=False)[0:10].index]\n",
    "#delinquent\n",
    "delinquent_weights=weights.loc[weights['delinquent'].abs().sort_values(ascending=False)[0:10].index]\n",
    "#foreclosed\n",
    "foreclosed_weights=weights.loc[weights['foreclosed'].abs().sort_values(ascending=False)[0:10].index]\n",
    "#prepaid\n",
    "prepaid_weights=weights.loc[weights['prepaid'].abs().sort_values(ascending=False)[0:10].index]\n",
    "\n",
    "\n",
    "fig, axs=plt.subplots(2, 2, sharex=True)\n",
    "plt.figure(figsize=(10, 10), dpi= 150, facecolor='w', edgecolor='k')\n",
    "#current subplot...\n",
    "axs[0,0].barh(width=current_weights['current'], y=np.arange(len(current_weights)))\n",
    "axs[0,0].set_yticks([0, 1, 2, 3, 4, 5, 6, 7, 8, 9])\n",
    "axs[0,0].set_yticklabels(current_weights.index)\n",
    "axs[0,0].set_title(\"Current\")\n",
    "axs[0,0].tick_params(axis='both', which='major', labelsize=7)\n",
    "#delinquent subplot....\n",
    "axs[0,1].barh(width=delinquent_weights['delinquent'], y=np.arange(len(delinquent_weights)))\n",
    "axs[0,1].set_yticks([0, 1, 2, 3, 4, 5, 6, 7, 8, 9])\n",
    "axs[0,1].set_yticklabels(delinquent_weights.index)\n",
    "axs[0,1].set_title(\"Delinquent\")\n",
    "axs[0,1].tick_params(axis='both', which='major', labelsize=7)\n",
    "#foreclosed subplot....\n",
    "axs[1,0].barh(width=foreclosed_weights['foreclosed'], y=np.arange(len(delinquent_weights)))\n",
    "axs[1,0].set_yticks([0, 1, 2, 3, 4, 5, 6, 7, 8, 9])\n",
    "axs[1,0].set_yticklabels(foreclosed_weights.index)\n",
    "axs[1,0].set_title(\"Foreclosed\")\n",
    "axs[1,0].tick_params(axis='both', which='major', labelsize=7)\n",
    "#Prepaid subplot....\n",
    "axs[1,1].barh(width=prepaid_weights['prepaid'], y=np.arange(len(delinquent_weights)))\n",
    "axs[1,1].set_yticks([0, 1, 2, 3, 4, 5, 6, 7, 8, 9])\n",
    "axs[1,1].set_yticklabels(prepaid_weights.index)\n",
    "axs[1,1].set_title(\"Prepaid\")\n",
    "axs[1,1].tick_params(axis='both', which='major', labelsize=7)\n",
    "fig.subplots_adjust(wspace=0.6, hspace=0.3)\n"
   ]
  },
  {
   "cell_type": "markdown",
   "metadata": {},
   "source": [
    "### Mortgage Selection"
   ]
  },
  {
   "cell_type": "markdown",
   "metadata": {},
   "source": [
    "Mortgage lenders and investors are deeply concerned with minimizing default and prepayment risk on mortgages in order to ensure a steady stream of monthly cash flows. Below, I demonstrate how the logistic regression model can be used to minimize prepayment and default risk for an investor who must select a portfolios of mortgages each month. Each month, the investor is presented with 30 random samples of 500 mortgages from which 30 portfolios of 100 mortgages loans is to be selected. The goal of the investor is to select the 100 loans that are most likely to be current in the next month. For each month and each of the 30 portfolios, the investor selects these 100 mortgages by computing the probability of the loan being current in the next period using the previosuly estimated weights from the logistic regression model. The performance of the portfolio is measured as the ratio of loans in the portfolio that are actually current in the next period. For each month, the average and standard deviation of the 30 portfolios is computed. The performance of the portfolio selected using the logistic regression model is further compared with that of a naive model which randomly selects 100 mortgages that were current as of the previous month. \n"
   ]
  },
  {
   "cell_type": "code",
   "execution_count": 108,
   "metadata": {},
   "outputs": [],
   "source": [
    "#function that compute the performance of the logistic regression and random model\n",
    "def simulator(model, reps, pool_size, portfolio_size):\n",
    "    all_loans=pd.DataFrame()\n",
    "    #loop through every month\n",
    "    for i in sorted(test_data['month'].unique()):\n",
    "        #for every month, construct N portfolios from a random sample of loans\n",
    "        for j in range(1, reps+1):\n",
    "            #select pool_size number of loans are random\n",
    "            sample = test_data.loc[test_data['month']==i,:].sample(n=pool_size).reset_index(drop=True)\n",
    "            #normalize the features \n",
    "            sample[features]=pd.DataFrame(data_scaler.transform(sample[features]), columns=sample[features].columns)\n",
    "            #compute binary variable equal to 1 if mortgages is current\n",
    "            sample['current']=np.where(sample['delinquent']==0, 1, 0)\n",
    "            #feed the random sample into the logistic regression model to get probability estimates\n",
    "            predictions=pd.DataFrame({'prediction':model.predict(sample[features])[:, 0], 'sequence': sample['sequence']})\n",
    "            #construct a dataframe with one column consisting of the current status for the 100 loans \n",
    "            #most likely to be current and the other column equal to the current status for 100 randomly selected loans\n",
    "            #that were current in the previous month\n",
    "            loans=pd.concat([sample['current'].iloc[predictions.sort_values(by='prediction', ascending=False)[0:portfolio_size].index].reset_index(drop=True), \n",
    "                             sample['current'].loc[sample['l_delinquent']<=0].sample(n=portfolio_size).reset_index(drop=True)], axis=1)\n",
    "            loans.columns=['best', 'random']\n",
    "            #compute the percentage of loans that are actualy current for each of the two portfolios     \n",
    "            loans=pd.DataFrame(loans.agg({'mean'}))\n",
    "            loans['month']=i\n",
    "            loans['group']=j\n",
    "        #append this months portfolios to those from the previous months\n",
    "        all_loans=all_loans.append(loans).reset_index(drop=True)\n",
    "    #compute the average performance and standard deviation for the random and logistic model for each month\n",
    "    all_loans=all_loans.groupby(['month']).agg({'best':['mean', 'std'], 'random':['mean', 'std']})    \n",
    "    all_loans.columns = [\"_\".join(x) for x in all_loans.columns.ravel()]\n",
    "    return all_loans\n"
   ]
  },
  {
   "cell_type": "code",
   "execution_count": 110,
   "metadata": {},
   "outputs": [],
   "source": [
    "comparison=simulator(model0, 30, 500, 100)"
   ]
  },
  {
   "cell_type": "code",
   "execution_count": 167,
   "metadata": {},
   "outputs": [
    {
     "data": {
      "image/png": "[encoded data removed]",
      "text/plain": [
       "<Figure size 432x288 with 2 Axes>"
      ]
     },
     "metadata": {
      "needs_background": "light"
     },
     "output_type": "display_data"
    }
   ],
   "source": [
    "#make a plot summarizing the performance of the logistic and random model\n",
    "fig, axis=plt.subplots(2,1)\n",
    "l1=axis[0].plot(np.arange(2004.083333333, 2017.99, 1/12), comparison['best_mean'], label='Logistic Model')\n",
    "l2=axis[0].plot(np.arange(2004.083333333, 2017.99, 1/12), comparison['random_mean'], label='Random Model')\n",
    "l1=axis[0].set_ylabel(\"Proportion Current\")\n",
    "axis[0].legend(loc='lower left')\n",
    "l3=axis[1].plot(np.arange(2004.083333333, 2017.99, 1/12), comparison['best_std'])\n",
    "l4=axis[1].plot(np.arange(2004.083333333, 2017.99, 1/12), comparison['random_std'])\n",
    "l4=axis[1].set_ylabel(\"Standard Deviation\")\n"
   ]
  },
  {
   "cell_type": "markdown",
   "metadata": {},
   "source": [
    "The figure above summarizes the performance of the logistic and random model. A few things are noteworthy. First, the average number of current loans for portfolios constructed using the logistic model are higher than that of the random model for every month in the sample. The gap between the performance of the two models widens substantially during and after the Great Recession, a period during which home foreclosures were widespread. This suggests that the model may be more valuable during times of economic instability. Furthermore, the performance of the logistic regression model is less volatile than that of the random model. This shows that the logistic model is able to consistently outperform the random model in each month. Also of note is the fact that the performance and standard deviation of the logistic model gradually deteriorate as we move further from the origination date. This is likely due to the fact that many of the borrower-level features are fixed at origination. As we move through time, these features become noisier measures of borrower quality, which hurts the performance of the model. "
   ]
  },
  {
   "cell_type": "markdown",
   "metadata": {},
   "source": [
    "## Artificial Neural Network"
   ]
  },
  {
   "cell_type": "markdown",
   "metadata": {},
   "source": [
    "I now increase the complexity of the model by training a feed-forward neural network with one hidden layer. Neural networks can improve on predictive performance over simple logistic regression models by learning non-linear relationships between features and output variables. This is accomplished through a combination of hidden layers and activation functions. I consider a simple neural network with one hidden layer. The probability of a mortgage $i$ being in state $k$ at time $t$ can be expressed as\n",
    "\n",
    "$$Pr\\left(y_{it}=k|X_{i,t-1}\\right)= softmax_k\\left(\\sum_{j=1}^{M}w_{2,j}\\times f_j\\left(\\sum_{i=1}^{N} w_{1,k}\\times x_{i, {t-1}} + b_{1,k}\\right) + b_{2,k}\\right)$$\n",
    "\n",
    "I consider a hidden layer with 100 neurons and use the hyperbolic tangent function. Therefore $M=100$ and $f$ is the hyperbolic tangent function in the equation above. $N$ is equal to the number of features (38). The neural network above reduces to the logistic regression model when $M=1$, $b_2=0$, $w_{2,j}=1$, and $f$ is the identity function. Therefore, multinomial logistic regression can be thought of as a neural network with zero hidden layer and a softmax activation function.  Like the logistic regression model, the weights ($\\{w_{1, k,}\\}_N$ and $\\{w_{2, k}\\}_M$) and biases ($b_1$ and $b_2$) are estimated by minimizing the cross-entropy using the adam optimization algorithim in Keras. "
   ]
  },
  {
   "cell_type": "code",
   "execution_count": 7,
   "metadata": {
    "scrolled": true
   },
   "outputs": [
    {
     "name": "stdout",
     "output_type": "stream",
     "text": [
      "Train on 4276570 samples, validate on 1069143 samples\n",
      "Epoch 1/100\n",
      "4276570/4276570 [==============================] - 187s 44us/step - loss: 1.5726 - categorical_accuracy: 0.9352 - val_loss: 1.5650 - val_categorical_accuracy: 0.9583\n",
      "Epoch 2/100\n",
      "4276570/4276570 [==============================] - 161s 38us/step - loss: 1.5407 - categorical_accuracy: 0.9362 - val_loss: 1.7959 - val_categorical_accuracy: 0.9283\n",
      "Epoch 3/100\n",
      "4276570/4276570 [==============================] - 166s 39us/step - loss: 1.5259 - categorical_accuracy: 0.9396 - val_loss: 1.5391 - val_categorical_accuracy: 0.9159\n",
      "Epoch 4/100\n",
      "4276570/4276570 [==============================] - 188s 44us/step - loss: 1.5488 - categorical_accuracy: 0.9386 - val_loss: 1.5826 - val_categorical_accuracy: 0.9377\n",
      "Epoch 5/100\n",
      "4276570/4276570 [==============================] - 163s 38us/step - loss: 1.5408 - categorical_accuracy: 0.9386 - val_loss: 1.5374 - val_categorical_accuracy: 0.9500\n",
      "Epoch 6/100\n",
      "4276570/4276570 [==============================] - 166s 39us/step - loss: 1.5611 - categorical_accuracy: 0.9358 - val_loss: 1.4388 - val_categorical_accuracy: 0.9376\n",
      "Epoch 7/100\n",
      "4276570/4276570 [==============================] - 167s 39us/step - loss: 1.5540 - categorical_accuracy: 0.9362 - val_loss: 1.6464 - val_categorical_accuracy: 0.9465\n",
      "Epoch 8/100\n",
      "4276570/4276570 [==============================] - 193s 45us/step - loss: 1.5551 - categorical_accuracy: 0.9368 - val_loss: 1.4289 - val_categorical_accuracy: 0.9294\n",
      "Epoch 9/100\n",
      "4276570/4276570 [==============================] - 167s 39us/step - loss: 1.5281 - categorical_accuracy: 0.9370 - val_loss: 1.6094 - val_categorical_accuracy: 0.9611\n",
      "Epoch 10/100\n",
      "4276570/4276570 [==============================] - 189s 44us/step - loss: 1.5366 - categorical_accuracy: 0.9353 - val_loss: 1.4607 - val_categorical_accuracy: 0.9599\n",
      "Epoch 11/100\n",
      "4276570/4276570 [==============================] - 190s 44us/step - loss: 1.5297 - categorical_accuracy: 0.9348 - val_loss: 1.7085 - val_categorical_accuracy: 0.8631\n",
      "Epoch 12/100\n",
      "4276570/4276570 [==============================] - 167s 39us/step - loss: 1.5375 - categorical_accuracy: 0.9336 - val_loss: 1.4490 - val_categorical_accuracy: 0.9326\n",
      "Epoch 13/100\n",
      "4276570/4276570 [==============================] - 163s 38us/step - loss: 1.5272 - categorical_accuracy: 0.9332 - val_loss: 1.4764 - val_categorical_accuracy: 0.9442\n"
     ]
    }
   ],
   "source": [
    "import tensorflow as tf\n",
    "import keras as k\n",
    "from keras.layers import Dense, Dropout\n",
    "from keras.models import Sequential\n",
    "from keras.optimizers import Adam\n",
    "adam=Adam(learning_rate=0.001, beta_1=0.9, beta_2=0.999, amsgrad=False)\n",
    "#define class weights to account for imbalanced data\n",
    "class_weight = {0: 1,\n",
    "                1: 29.5434, \n",
    "                2: 1393.82, \n",
    "                3: 83.006}\n",
    "from keras import callbacks\n",
    "#Training neural networks are over parameterized and subject to overfitting. I use early stopping to prevent this. This \n",
    "# means that the optimizer will stop running after five consecutive epochs in which the validation loss doesn't improve\n",
    "#over its lowest value.\n",
    "ES=callbacks.EarlyStopping(monitor='val_loss',\n",
    "                              min_delta=0,\n",
    "                              patience=5,\n",
    "                              verbose=0, mode='auto', restore_best_weights=True)\n",
    "\n",
    "model1=Sequential()\n",
    "model1.add(Dense(100, input_dim=38, activation='tanh', use_bias=True))\n",
    "model1.add(Dense(4, activation='softmax', use_bias=True))\n",
    "model1.compile(loss='categorical_crossentropy', optimizer=adam, metrics=['categorical_accuracy'])\n",
    "history1=model1.fit(data_scaled[features], y, batch_size=30, epochs=100, validation_split=0.2, \n",
    "                   class_weight=class_weight, verbose=1, callbacks=[ES])"
   ]
  },
  {
   "cell_type": "code",
   "execution_count": 10,
   "metadata": {},
   "outputs": [
    {
     "name": "stdout",
     "output_type": "stream",
     "text": [
      "              precision    recall  f1-score   support\n",
      "\n",
      "     current       0.99      0.94      0.97   1291111\n",
      "  delinquent       0.24      0.53      0.33     41172\n",
      "  foreclosed       0.05      0.77      0.09       917\n",
      "     prepaid       0.89      0.99      0.94     15361\n",
      "\n",
      "    accuracy                           0.93   1348561\n",
      "   macro avg       0.54      0.81      0.58   1348561\n",
      "weighted avg       0.97      0.93      0.95   1348561\n",
      "\n"
     ]
    }
   ],
   "source": [
    "#Evaluate the model using test data\n",
    "print(classification_report(test_data['delinquent'], model1.predict_classes(test_scaled[features]), \n",
    "                            target_names=['current', 'delinquent', 'foreclosed', 'prepaid']))\n"
   ]
  },
  {
   "cell_type": "markdown",
   "metadata": {},
   "source": [
    "The performance of the neural network is summarized above. Compared to the logistic regression performance, the validation loss is substantially lower (1.4764 after 13 epochs compared to 1.55 for the logistic model). The classification report shows that the improvement mostly comes from the model's performance on the prepaid class. Specificaly, the precision on the prepaid class increases substantially relative to the logistic regression model. This implies that, for the prepaid class, the neural network does a better job of correctly identifying loans that do not prepay.  The f-1 scores for the delinquent and foreclosed class are smaller for the neural network than for the logistic regression, however these differences are small."
   ]
  },
  {
   "cell_type": "code",
   "execution_count": 1,
   "metadata": {},
   "outputs": [],
   "source": [
    "import os\n",
    "os.getcwd()\n",
    "os.chdir('C:\\\\Users\\\\dzink\\\\Documents\\\\fannie')\n",
    "import pandas as pd\n",
    "import numpy as np\n",
    "import matplotlib.pyplot as plt\n",
    "from sklearn import metrics\n",
    "from sklearn.linear_model import LogisticRegression\n",
    "import math\n",
    "from fredapi import Fred\n",
    "fred = Fred(api_key='1576db9fbf4b71d1dc4dd4a2b76898e4')\n",
    "\n",
    "data=pd.read_csv('training_data.csv')\n",
    "\n",
    "features=['l_delinquent', 'loan_age', 'months_left', 'estimated_ltv', 'fico', 'units_1', 'units_2', 'units_3', 'units_4', \n",
    "\t\t'occupancy_I', 'occupancy_P', 'occupancy_S' , 'o_cltv', 'o_dti', 'o_upb' ,'o_ltv', \n",
    "\t\t'property_type_CP', 'property_type_MH', 'property_type_CO', 'property_type_PU', 'property_type_SF', \n",
    "\t\t'fist_home_9', 'fist_home_Y', 'fist_home_N', 'o_term', 'borrowers', 'nontradable_xshare',\n",
    "\t\t 'other_xshare', 'tradable_xshare', 'tot_emp_xshare', 'white_xshare', 'LaborForce_xshare', 'Employed_xshare', \n",
    "\t\t'Unemployed_xshare']\n"
   ]
  },
  {
   "cell_type": "code",
   "execution_count": 14,
   "metadata": {},
   "outputs": [
    {
     "data": {
      "text/plain": [
       "[1919-01-01      5.0124\n",
       " 1919-02-01      4.7908\n",
       " 1919-03-01      4.6524\n",
       " 1919-04-01      4.7355\n",
       " 1919-05-01      4.7632\n",
       "                 ...   \n",
       " 2019-07-01    109.1062\n",
       " 2019-08-01    109.9392\n",
       " 2019-09-01    109.4560\n",
       " 2019-10-01    108.4887\n",
       " 2019-11-01    109.6770\n",
       " Length: 1211, dtype: float64, 2010-01-11    1146.98\n",
       " 2010-01-12    1136.22\n",
       " 2010-01-13    1145.68\n",
       " 2010-01-14    1148.46\n",
       " 2010-01-15    1136.03\n",
       "                ...   \n",
       " 2020-01-02    3257.85\n",
       " 2020-01-03    3234.85\n",
       " 2020-01-06    3246.28\n",
       " 2020-01-07    3237.18\n",
       " 2020-01-08    3253.05\n",
       " Length: 2608, dtype: float64]"
      ]
     },
     "execution_count": 14,
     "metadata": {},
     "output_type": "execute_result"
    }
   ],
   "source": [
    "[fred.get_series('INDPRO'), fred.get_series('SP500')]\n"
   ]
  },
  {
   "cell_type": "code",
   "execution_count": 3,
   "metadata": {},
   "outputs": [
    {
     "data": {
      "text/plain": [
       "2010-01-11    1146.98\n",
       "2010-01-12    1136.22\n",
       "2010-01-13    1145.68\n",
       "2010-01-14    1148.46\n",
       "2010-01-15    1136.03\n",
       "               ...   \n",
       "2020-01-02    3257.85\n",
       "2020-01-03    3234.85\n",
       "2020-01-06    3246.28\n",
       "2020-01-07    3237.18\n",
       "2020-01-08    3253.05\n",
       "Length: 2608, dtype: float64"
      ]
     },
     "execution_count": 3,
     "metadata": {},
     "output_type": "execute_result"
    }
   ],
   "source": [
    "sp500"
   ]
  },
  {
   "cell_type": "code",
   "execution_count": 17,
   "metadata": {},
   "outputs": [
    {
     "name": "stdout",
     "output_type": "stream",
     "text": [
      "Train on 4276570 samples, validate on 1069143 samples\n",
      "Epoch 1/100\n",
      "4276570/4276570 [==============================] - 234s 55us/step - loss: 2.0854 - categorical_accuracy: 0.9302 - val_loss: 1.6786 - val_categorical_accuracy: 0.9574\n",
      "Epoch 2/100\n",
      "4276570/4276570 [==============================] - 239s 56us/step - loss: 1.9433 - categorical_accuracy: 0.9304 - val_loss: 4.9530 - val_categorical_accuracy: 0.8656\n",
      "Epoch 3/100\n",
      "4276570/4276570 [==============================] - 248s 58us/step - loss: 1.8212 - categorical_accuracy: 0.9327 - val_loss: 3.4873 - val_categorical_accuracy: 0.9480\n",
      "Epoch 4/100\n",
      "4276570/4276570 [==============================] - 242s 57us/step - loss: 2.1524 - categorical_accuracy: 0.9295 - val_loss: 1.9949 - val_categorical_accuracy: 0.9211\n",
      "Epoch 5/100\n",
      "4276570/4276570 [==============================] - 242s 57us/step - loss: 2.0830 - categorical_accuracy: 0.9354 - val_loss: 1.7720 - val_categorical_accuracy: 0.9326\n",
      "Epoch 6/100\n",
      "4276570/4276570 [==============================] - 226s 53us/step - loss: 1.9030 - categorical_accuracy: 0.9361 - val_loss: 3.5440 - val_categorical_accuracy: 0.9457\n"
     ]
    }
   ],
   "source": [
    "import tensorflow as tf\n",
    "import keras as k\n",
    "from keras.layers import Dense, Dropout\n",
    "from keras.models import Sequential\n",
    "from keras.optimizers import Adam\n",
    "adam=Adam(learning_rate=0.001, beta_1=0.9, beta_2=0.999, amsgrad=False)\n",
    "#define class weights to account for imbalanced data\n",
    "class_weight = {0: 1,\n",
    "                1: 29.5434, \n",
    "                2: 1393.82, \n",
    "                3: 83.006}\n",
    "from keras import callbacks\n",
    "#Training neural networks are over parameterized and subject to overfitting. I use early stopping to prevent this. This \n",
    "# means that the optimizer will stop running after five consecutive epochs in which the validation loss doesn't improve\n",
    "#over its lowest value.\n",
    "ES=callbacks.EarlyStopping(monitor='val_loss',\n",
    "                              min_delta=0,\n",
    "                              patience=5,\n",
    "                              verbose=0, mode='auto', restore_best_weights=True)\n",
    "\n",
    "model1=Sequential()\n",
    "model1.add(Dense(100, input_dim=38, activation='relu', use_bias=True))\n",
    "model1.add(Dense(100, activation='relu', use_bias=True))\n",
    "model1.add(Dense(100, activation='relu', use_bias=True))\n",
    "model1.add(Dense(4, activation='softmax', use_bias=True))\n",
    "model1.compile(loss='categorical_crossentropy', optimizer=adam, metrics=['categorical_accuracy'])\n",
    "history1=model1.fit(data_scaled[features], y, batch_size=30, epochs=100, validation_split=0.2, \n",
    "                   class_weight=class_weight, verbose=1, callbacks=[ES])"
   ]
  },
  {
   "cell_type": "code",
   "execution_count": null,
   "metadata": {},
   "outputs": [],
   "source": []
  }
 ],
 "metadata": {
  "kernelspec": {
   "display_name": "Python 3",
   "language": "python",
   "name": "python3"
  },
  "language_info": {
   "codemirror_mode": {
    "name": "ipython",
    "version": 3
   },
   "file_extension": ".py",
   "mimetype": "text/x-python",
   "name": "python",
   "nbconvert_exporter": "python",
   "pygments_lexer": "ipython3",
   "version": "3.7.4"
  }
 },
 "nbformat": 4,
 "nbformat_minor": 2
}
